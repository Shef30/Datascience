{
 "cells": [
  {
   "cell_type": "markdown",
   "id": "acc62f28-d541-48e0-a06f-913561ee3277",
   "metadata": {},
   "source": [
    "#Peer-graded_assignment"
   ]
  },
  {
   "cell_type": "markdown",
   "id": "ab080b08-6fea-4d85-abf6-0367b5ede9f7",
   "metadata": {},
   "source": [
    "This course is to summarize the Data Science Tools and its architecture along with its popularity among data scientists"
   ]
  },
  {
   "cell_type": "markdown",
   "id": "a2a5bddd-5d27-4c5b-9d42-b2586362c063",
   "metadata": {
    "tags": []
   },
   "source": [
    "**Objectives:**\n",
    "\n",
    "- List popular languages that data scientists use\n",
    "- List commonly used libraries\n",
    "- Information about data science tools"
   ]
  },
  {
   "cell_type": "markdown",
   "id": "4214f7cb-13de-4ac4-8753-019971813c29",
   "metadata": {},
   "source": [
    "Most popular languages for data scientists include:\n",
    "1. Python\n",
    "2. R\n",
    "3. Julia\n",
    "4. Java"
   ]
  },
  {
   "cell_type": "markdown",
   "id": "eb4bfc86-ecb5-4dd1-935f-cfae99160eb1",
   "metadata": {},
   "source": [
    "Some of the commonly used libraries include:\n",
    "1. Tensorflow\n",
    "2. Numpy\n",
    "3. Pandas\n",
    "4. Matplotlib"
   ]
  },
  {
   "cell_type": "markdown",
   "id": "79d10c84-2c63-4108-ac35-589657c084a5",
   "metadata": {},
   "source": [
    "| Data Science Tools |\n",
    "| -------------|\n",
    "| Apache Spark|\n",
    "| SAS  |\n",
    "| BigML |"
   ]
  },
  {
   "cell_type": "markdown",
   "id": "f78fe651-5298-45e1-bc6b-2f720c5a0e27",
   "metadata": {},
   "source": [
    "# Arithmetic operations\n",
    "code = compile(\"5 + 4\", \"<string>\", \"eval\")\n",
    "eval(code)\n",
    "# Result: 9"
   ]
  },
  {
   "cell_type": "code",
   "execution_count": 5,
   "id": "9c29fe64-2b7a-461c-8999-d3238ebec945",
   "metadata": {
    "tags": []
   },
   "outputs": [
    {
     "data": {
      "text/plain": [
       "17"
      ]
     },
     "execution_count": 5,
     "metadata": {},
     "output_type": "execute_result"
    }
   ],
   "source": [
    "(3*4)+5"
   ]
  },
  {
   "cell_type": "code",
   "execution_count": 6,
   "id": "e039bf68-baa5-4b7a-b6d7-af09d9d59c48",
   "metadata": {
    "tags": []
   },
   "outputs": [
    {
     "name": "stdout",
     "output_type": "stream",
     "text": [
      "0 days, 3.3333333333333335 hours, 0 mins. \n"
     ]
    }
   ],
   "source": [
    "days = 0\n",
    "hours = 0\n",
    "mins = 0\n",
    "\n",
    "time = 200\n",
    "#days = time / 1440\n",
    "leftover_minutes = time % 1440\n",
    "hours = leftover_minutes / 60\n",
    "#mins = time - (days*1440) - (hours*60)\n",
    "print(str(days) + \" days, \" + str(hours) + \" hours, \" + str(mins) +  \" mins. \")\n",
    "\n",
    "# Result: 3.3333333333333335 hours"
   ]
  },
  {
   "cell_type": "markdown",
   "id": "228255c3-4322-4b07-ac89-69494af63d06",
   "metadata": {
    "tags": []
   },
   "source": [
    "# Author\n",
    "Shefali Kadam"
   ]
  },
  {
   "cell_type": "code",
   "execution_count": null,
   "id": "4bec6424-1be4-4a2e-8d63-c46a2961f430",
   "metadata": {},
   "outputs": [],
   "source": []
  }
 ],
 "metadata": {
  "kernelspec": {
   "display_name": "Python",
   "language": "python",
   "name": "conda-env-python-py"
  },
  "language_info": {
   "codemirror_mode": {
    "name": "ipython",
    "version": 3
   },
   "file_extension": ".py",
   "mimetype": "text/x-python",
   "name": "python",
   "nbconvert_exporter": "python",
   "pygments_lexer": "ipython3",
   "version": "3.7.12"
  }
 },
 "nbformat": 4,
 "nbformat_minor": 5
}
